{
 "cells": [
  {
   "cell_type": "markdown",
   "metadata": {},
   "source": [
    "# Working with RSS Feeds Lab\n",
    "\n",
    "Complete the following set of exercises to solidify your knowledge of parsing RSS feeds and extracting information from them."
   ]
  },
  {
   "cell_type": "code",
   "execution_count": 1,
   "metadata": {},
   "outputs": [
    {
     "name": "stdout",
     "output_type": "stream",
     "text": [
      "Requirement already satisfied: feedparser in c:\\users\\atefe\\appdata\\local\\programs\\python\\python39\\lib\\site-packages (6.0.2)\n",
      "Requirement already satisfied: sgmllib3k in c:\\users\\atefe\\appdata\\local\\programs\\python\\python39\\lib\\site-packages (from feedparser) (1.0.0)\n"
     ]
    },
    {
     "name": "stderr",
     "output_type": "stream",
     "text": [
      "WARNING: You are using pip version 20.2.3; however, version 21.1.1 is available.\n",
      "You should consider upgrading via the 'c:\\users\\atefe\\appdata\\local\\programs\\python\\python39\\python.exe -m pip install --upgrade pip' command.\n"
     ]
    }
   ],
   "source": [
    "!pip install feedparser"
   ]
  },
  {
   "cell_type": "code",
   "execution_count": 2,
   "metadata": {},
   "outputs": [],
   "source": [
    "import feedparser"
   ]
  },
  {
   "cell_type": "markdown",
   "metadata": {},
   "source": [
    "### 1. Use feedparser to parse the following RSS feed URL."
   ]
  },
  {
   "cell_type": "code",
   "execution_count": 3,
   "metadata": {},
   "outputs": [],
   "source": [
    "url = \"http://feeds.feedburner.com/oreilly/radar/atom\""
   ]
  },
  {
   "cell_type": "code",
   "execution_count": 4,
   "metadata": {},
   "outputs": [],
   "source": [
    "burner= feedparser.parse(\"http://feeds.feedburner.com/oreilly/radar/atom\")"
   ]
  },
  {
   "cell_type": "markdown",
   "metadata": {},
   "source": [
    "### 2. Obtain a list of components (keys) that are available for this feed."
   ]
  },
  {
   "cell_type": "code",
   "execution_count": 5,
   "metadata": {},
   "outputs": [
    {
     "data": {
      "text/plain": [
       "dict_keys(['bozo', 'entries', 'feed', 'headers', 'updated', 'updated_parsed', 'href', 'status', 'encoding', 'version', 'namespaces'])"
      ]
     },
     "execution_count": 5,
     "metadata": {},
     "output_type": "execute_result"
    }
   ],
   "source": [
    "burner.keys()"
   ]
  },
  {
   "cell_type": "markdown",
   "metadata": {},
   "source": [
    "### 3. Obtain a list of components (keys) that are available for the *feed* component of this RSS feed."
   ]
  },
  {
   "cell_type": "code",
   "execution_count": 6,
   "metadata": {
    "scrolled": true
   },
   "outputs": [
    {
     "data": {
      "text/plain": [
       "dict_keys(['title', 'title_detail', 'links', 'link', 'subtitle', 'subtitle_detail', 'updated', 'updated_parsed', 'language', 'sy_updateperiod', 'sy_updatefrequency', 'generator_detail', 'generator', 'feedburner_info', 'geo_lat', 'geo_long', 'feedburner_emailserviceid', 'feedburner_feedburnerhostname'])"
      ]
     },
     "execution_count": 6,
     "metadata": {},
     "output_type": "execute_result"
    }
   ],
   "source": [
    "burner.feed.keys()"
   ]
  },
  {
   "cell_type": "markdown",
   "metadata": {},
   "source": [
    "### 4. Extract and print the feed title, subtitle, author, and link."
   ]
  },
  {
   "cell_type": "code",
   "execution_count": 7,
   "metadata": {},
   "outputs": [
    {
     "name": "stdout",
     "output_type": "stream",
     "text": [
      "Radar\n",
      "Now, next, and beyond: Tracking need-to-know trends at the intersection of business and technology\n",
      "https://www.oreilly.com/radar\n"
     ]
    }
   ],
   "source": [
    "print(burner.feed.title)\n",
    "print(burner.feed.subtitle)\n",
    "print(burner.feed.link)\n",
    "#no author key value inside the author feed"
   ]
  },
  {
   "cell_type": "markdown",
   "metadata": {},
   "source": [
    "### 5. Count the number of entries that are contained in this RSS feed."
   ]
  },
  {
   "cell_type": "code",
   "execution_count": 8,
   "metadata": {},
   "outputs": [
    {
     "name": "stdout",
     "output_type": "stream",
     "text": [
      "Number of RSS entires : 60\n"
     ]
    }
   ],
   "source": [
    "print (\"Number of RSS entires :\", len(burner.entries))"
   ]
  },
  {
   "cell_type": "markdown",
   "metadata": {},
   "source": [
    "### 6. Obtain a list of components (keys) available for an entry.\n",
    "\n",
    "*Hint: Remember to index first before requesting the keys*"
   ]
  },
  {
   "cell_type": "code",
   "execution_count": 9,
   "metadata": {},
   "outputs": [
    {
     "data": {
      "text/plain": [
       "{'title': 'Radar trends to watch: May 2021',\n",
       " 'title_detail': {'type': 'text/plain',\n",
       "  'language': None,\n",
       "  'base': 'http://feeds.feedburner.com/oreilly/radar/atom',\n",
       "  'value': 'Radar trends to watch: May 2021'},\n",
       " 'links': [{'rel': 'alternate',\n",
       "   'type': 'text/html',\n",
       "   'href': 'http://feedproxy.google.com/~r/oreilly/radar/atom/~3/VnJwo4IfcPs/'}],\n",
       " 'link': 'http://feedproxy.google.com/~r/oreilly/radar/atom/~3/VnJwo4IfcPs/',\n",
       " 'comments': 'https://www.oreilly.com/radar/radar-trends-to-watch-may-2021/#respond',\n",
       " 'published': 'Mon, 03 May 2021 14:05:40 +0000',\n",
       " 'published_parsed': time.struct_time(tm_year=2021, tm_mon=5, tm_mday=3, tm_hour=14, tm_min=5, tm_sec=40, tm_wday=0, tm_yday=123, tm_isdst=0),\n",
       " 'authors': [{'name': 'Mike Loukides'}],\n",
       " 'author': 'Mike Loukides',\n",
       " 'author_detail': {'name': 'Mike Loukides'},\n",
       " 'tags': [{'term': 'Radar Trends', 'scheme': None, 'label': None},\n",
       "  {'term': 'Signals', 'scheme': None, 'label': None}],\n",
       " 'id': 'https://www.oreilly.com/radar/?p=13755',\n",
       " 'guidislink': False,\n",
       " 'summary': 'We’ll start with a moment of silence. RIP Dan Kaminski, master hacker, teacher, FOO, and a great showman who could make some of the more arcane corners of security fun.&#160; And one of the few people who could legitimately claim to have saved the internet. AI Snorkel is making progress automating the labeling process for [&#8230;]',\n",
       " 'summary_detail': {'type': 'text/html',\n",
       "  'language': None,\n",
       "  'base': 'http://feeds.feedburner.com/oreilly/radar/atom',\n",
       "  'value': 'We’ll start with a moment of silence. RIP Dan Kaminski, master hacker, teacher, FOO, and a great showman who could make some of the more arcane corners of security fun.&#160; And one of the few people who could legitimately claim to have saved the internet. AI Snorkel is making progress automating the labeling process for [&#8230;]'},\n",
       " 'content': [{'type': 'text/html',\n",
       "   'language': None,\n",
       "   'base': 'http://feeds.feedburner.com/oreilly/radar/atom',\n",
       "   'value': '<p>We’ll start with a moment of silence. RIP Dan Kaminski, master hacker, teacher, FOO, and a great showman who could make some of the more arcane corners of security fun.&nbsp; And one of the few people who could legitimately claim to have saved the internet.</p>\\n\\n\\n\\n<h2>AI</h2>\\n\\n\\n\\n<ul><li><a href=\"https://snorkel.ai/\">Snorkel</a> is making progress <a href=\"https://thenewstack.io/snorkel-tackles-ais-most-tedious-task/\">automating the labeling process</a> for training data. They are building no-code tools to help subject matter experts direct the training process, and then using AI to label training data at scale.</li><li>There’s lots of news about <a href=\"https://www.technologyreview.com/2021/04/21/1023254/ftc-eu-ai-regulation-bias-algorithms-civil-rights/\">regulating AI</a>. Perhaps the most important is a blog post from the US Federal Trade Commission saying that it will consider the sale of racially biased algorithms as an <a href=\"https://www.ftc.gov/news-events/blogs/business-blog/2021/04/aiming-truth-fairness-equity-your-companys-use-ai\">unfair or deceptive business practice</a>.</li><li>AI and computer vision can be used to aid <a href=\"https://techxplore.com/news/2021-04-ai-empower-environmental.html\">environmental monitoring</a> and enforce environmental regulation–specifically, to detect businesses that are emitting pollutants.</li><li>Facebook has made some significant progress in <a href=\"https://research.fb.com/wp-content/uploads/2021/04/Multi-Channel-Speech-Enhancement-Using-Graph-Neural-Networks.pdf\">solving the “cocktail party problem”</a>: how do you separate voices in a crowd sufficiently so that they can be used as input to a speech recognition system?</li><li>The next step in AI may be Geoff Hinton’s <a href=\"https://www.technologyreview.com/2021/04/16/1021871/geoffrey-hinton-glom-godfather-ai-neural-networks/\">GLOM</a>. It’s currently just an idea about giving neural networks the ability to work with hierarchies of objects, for example the concepts of “part” and “whole,” in the hope of getting closer to monitoring human perception.</li><li>Twitter has announced an initiative on <a href=\"https://techxplore.com/news/2021-04-twitter-unveils-algorithmic-fairness.html\">responsible machine learning</a> that intends to investigate the “potential and harmful effects of algorithmic decisions.”</li><li>How do we go beyond statistical correlation to build causality into AI? This article about <a href=\"https://bdtechtalks.com/2021/03/15/machine-learning-causality/\">causal models for machine learning</a> discusses why it’s difficult, and what can be done about it.</li><li>Iron man? The price of <a href=\"https://www.bbc.com/news/business-56660644\">robotic exoskeletons</a> for humans is still high, but may be dropping fast. These exoskeletons will assist humans in tasks that require strength, improved vision, and other capabilities.</li><li>The Google Street View image of your house can been used to predict your <a href=\"https://www.technologyreview.com/2019/04/30/135556/how-a-google-street-view-image-of-your-house-predicts-your-risk-of-a-car-accident/\">risk of a car accident</a>.&nbsp; This raises important questions about ethics, fairness, and the abuse of data.</li><li>When deep fakes become cheap fakes: Deep fakes proliferated during the Amazon unionization campaign in Georgia, many under the name of <a href=\"https://www.technologyreview.com/2021/03/31/1021487/deepfake-amazon-workers-are-sowing-confusion-on-twitter-thats-not-the-problem/\">Amazon Ambassadors</a>. These are apparently “fake fakes,” parodies of an earlier Amazon attempt to use fake media to bolster its image. But the question remains: what happens when “deep fakes” are also the cheapest way to influence social media?</li><li><a href=\"https://arxiv.org/abs/2103.06929\">DeepFakeHop</a> is a new technique for <a href=\"https://techxplore.com/news/2021-04-breakthrough-technology-game-changer-deepfake.html\">detecting deep fakes</a>, using a new neural network architecture called Successive Subspace Learning.</li><li>One of the biggest problems in AI is building systems that can respond correctly to challenging, unexpected situations. Changing the rules of a game may be a way of “teaching” AI to respond to <a href=\"https://theconversation.com/embrace-the-unexpected-to-teach-ai-how-to-handle-new-situations-change-the-rules-of-the-game-157560\">new and unexpected situations</a> and make novelty a “first class citizen.”</li><li>A robot developed at Berkeley has <a href=\"https://www.technologyreview.com/2021/04/08/1022176/boston-dynamics-cassie-robot-walk-reinforcement-learning-ai/\">taught itself to walk</a> using reinforcement learning. Two levels of simulation were used before the robot was allowed to walk in the real world. (Boston Dynamics has not said how their robots are trained, but they are assumed to be hand-tuned.)</li><li>Work on <a href=\"https://gradientflow.com/data-cascades-why-we-need-feedback-channels-throughout-the-machine-learning-lifecycle/\">data quality</a> is more important to getting good results from AI than work on models–but <a href=\"https://storage.googleapis.com/pub-tools-public-publication-data/pdf/0d556e45afc54afeb2eb6b51a9bc1827b9961ff4.pdf\">everyone wants to do the model work</a>. There is evidence that AI is a lot better than we think, but its accuracy is compromised by <a href=\"https://arxiv.org/pdf/2103.14749.pdf?mc_cid=14ae732089&amp;mc_eid=7da3941d81\">errors in the public data sets</a> widely used for training.</li></ul>\\n\\n\\n\\n<h2>Security</h2>\\n\\n\\n\\n<ul><li>Moxie Marlinspike has found a remote code execution <a href=\"https://www.schneier.com/blog/archives/2021/04/security-vulnerabilities-in-cellebrite.html\">vulnerability in Cellebrite</a>, a commercial device used by police forces and others to break encryption on cell phone apps like Signal. This exploit can be triggered by files installed in the app itself, possibly rendering Cellebrite evidence inadmissible in court.</li><li>What happens when AI systems start hacking? This is Bruce Schneier’s <a href=\"https://www.schneier.com/blog/archives/2021/04/when-ais-start-hacking.html\">scary thought</a>. AI is now part of the <a href=\"https://www.technologyreview.com/2021/04/08/1021696/preparing-for-ai-enabled-cyberattacks/\">attacker’s toolkit</a>, and responsible for new attacks that evade traditional defenses.\\xa0 This is the end of traditional, signature-based approaches to security.</li><li><a href=\"https://thenewstack.io/confidential-computing-is-transforming-data-encryption-in-healthcare-finance/\">Confidential computing</a> combines homomorphic encryption with specialized cryptographic computation engines to keep data encrypted while it is being used. “Traditional” cryptography only protects data in storage or in transit; to use data in computation, it must be decrypted.</li><li><a href=\"https://www.paloaltonetworks.com/cyberpedia/what-is-sase\">Secure access service edge</a> could be no more than hype-ware, but it is touted as a security paradigm for edge computing that combines firewalls, security brokers, and zero-trust computing over wide-area networks.</li><li>A supply chain attack attempted to place a <a href=\"https://thenewstack.io/php-supply-chain-attack-shows-open-sources-virtues-and-vices/\">backdoor into PHP</a>. Fortunately, it was detected during a code review prior to release. One result is that PHP is <a href=\"https://news-web.php.net/php.internals/113838\">outsourcing their git server</a> to GitHub. They are making this change to protect against attacks on the source code, and they’re realizing that GitHub provides better protection than they can. “Maintaining our own git infrastructure is an unnecessary security risk”–that’s an argument we’ve made in favor of cloud computing.</li><li>“Researchers” from the University of Minnesota have deliberately tried to insert <a href=\"https://www.zdnet.com/article/greg-kroah-hartman-bans-university-of-minnesota-from-linux-development-for-deliberately-buggy-patches/\">vulnerabilities</a> into the Linux kernel. The Linux kernel team has banned all contributions from the university.</li></ul>\\n\\n\\n\\n<h2>Quantum Computing</h2>\\n\\n\\n\\n<ul><li><a href=\"https://www.sciencedaily.com/releases/2021/04/210415142619.htm\">Entanglement-based quantum networks</a> solve a fundamental problem: how do you move qbit state from one system to another, given that reading a qbit causes wave function collapse?&nbsp; If this works, it’s a major breakthrough.</li><li><a href=\"https://quantum-computing.ibm.com/composer/files/new\">IBM Quantum Composer</a> is a low-code tool for programming quantum computers. Could low- and no-code language be the only effective way to program quantum computers? Could they provide the insight and abstractions we need in a way that “coded” languages can’t?</li></ul>\\n\\n\\n\\n<h2>Programming</h2>\\n\\n\\n\\n<ul><li>A <a href=\"https://thenewstack.io/a-software-bill-of-materials-could-be-a-requirement-for-applications-soon/\">Software Bill of Materials</a> is a tool for knowing your dependencies, crucial in defending against supply chain attacks.</li><li><a href=\"https://github.com/EvgSkv/logica\">Logica</a> is a new programming language from Google that is designed for working with data. It was designed for Google’s BigQuery, but it compiles to SQL and has experimental support for SQLite and PostgreSQL.</li><li>An iPhone app that teaches you to play guitar isn’t unique. But Uberchord is an app that teaches you to play guitar that has an <a href=\"https://www.programmableweb.com/api/uberchord\">API</a>. The API <a href=\"https://api.uberchord.com/#what-is-uberchord-api\">allows</a> searching for chords, sharing and retrieving songs, and embedding chords on your website.</li><li>The Supreme Court has ruled that <a href=\"https://arstechnica.com/tech-policy/2021/04/supreme-court-sides-with-google-in-api-copyright-battle-with-oracle/\">implementing an API is “fair use,”</a> giving Google a victory in a protracted copyright infringement case surrounding the use of Java APIs in Android.</li></ul>\\n\\n\\n\\n<h2>Social Networks</h2>\\n\\n\\n\\n<ul><li>Still picking up the pieces of social networking: Twitter, context collapse, and how <a href=\"https://warzel.substack.com/p/its-not-cancel-culture-its-a-platform\">trending topics</a> can ruin your day. You don’t want to be the inadvertent “star of twitter.”</li><li><a href=\"https://www.technologyreview.com/2021/04/02/1021635/beauty-filters-young-girls-augmented-reality-social-media/\">Beauty filters and selfie culture</a> change the way girls see themselves in ways that are neither surprising nor healthy. Body shaming goes to a new level when you live in a permanent reality distortion field.</li><li>The Signal app, probably the most widely used app for truly private communication, has wrapped itself in <a href=\"https://www.stephendiehl.com/blog/signal.html\">controversy</a> by incorporating a <a href=\"https://www.theverge.com/2021/4/6/22370213/signal-payments-cryptocurrency-crypto-mobilecoin-wallet-mob-beta-feature\">peer-to-peer payments</a> feature build around a new cryptocurrency.</li><li>Twitch will consider behavior <a href=\"https://techxplore.com/news/2021-04-twitch-boot-users-transgressions.html\">on other social platforms</a> when banning users.</li></ul>\\n\\n\\n\\n<h2>Finance</h2>\\n\\n\\n\\n<ul><li>Bitcoin has been very much in the news–though not for any technology. We’re beginning to see connections made between the Bitcoin economy and the real-world economy; that could be significant.</li><li>A different spin on <a href=\"https://soccermatics.medium.com/stanford-researchers-find-that-male-over-confidence-is-costing-the-tech-industry-billions-f224e8bc0d33\">salary differences</a> between men and women: companies are paying a premium for male overconfidence. Paying for overconfidence is costing billions.</li><li>How do you teach kids about virtual money? Nickels, dimes, and quarters work. Monetizing <a href=\"https://www.theinformation.com/articles/kid-debit-card-startup-greenlight-valued-at-2-billion-in-andreessen-led-round\">children</a> by issuing debit cards for them doesn’t seem like a good idea.</li></ul>\\n\\n\\n\\n<h2>Biology</h2>\\n\\n\\n\\n<ul><li>The Craig Venter Institute, NIST, and MIT have produced an <a href=\"https://www.nist.gov/news-events/news/2021/03/scientists-create-simple-synthetic-cell-grows-and-divides-normally\">artificial cell</a> that divides normally. It is not the first artificial cell, nor the smallest artificial genome. But unlike previous efforts, it is capable of reproduction.</li><li>While enabling a monkey to play Pong using brain control isn’t new in itself, the <a href=\"https://arstechnica.com/science/2021/04/the-big-advance-in-elon-musks-pong-playing-monkey-is-what-you-cant-see/\">sensors that Neuralink implanted</a> in the monkey’s brain are wireless.</li></ul>\\n<img alt=\"\" height=\"1\" src=\"http://feeds.feedburner.com/~r/oreilly/radar/atom/~4/VnJwo4IfcPs\" width=\"1\" />'}],\n",
       " 'wfw_commentrss': 'https://www.oreilly.com/radar/radar-trends-to-watch-may-2021/feed/',\n",
       " 'slash_comments': '0',\n",
       " 'feedburner_origlink': 'https://www.oreilly.com/radar/radar-trends-to-watch-may-2021/'}"
      ]
     },
     "execution_count": 9,
     "metadata": {},
     "output_type": "execute_result"
    }
   ],
   "source": [
    "burner.entries[1]"
   ]
  },
  {
   "cell_type": "code",
   "execution_count": 10,
   "metadata": {},
   "outputs": [
    {
     "data": {
      "text/plain": [
       "dict_keys(['title', 'title_detail', 'links', 'link', 'comments', 'published', 'published_parsed', 'authors', 'author', 'author_detail', 'tags', 'id', 'guidislink', 'summary', 'summary_detail', 'content', 'wfw_commentrss', 'slash_comments', 'feedburner_origlink'])"
      ]
     },
     "execution_count": 10,
     "metadata": {},
     "output_type": "execute_result"
    }
   ],
   "source": [
    "burner.entries[1].keys()"
   ]
  },
  {
   "cell_type": "markdown",
   "metadata": {},
   "source": [
    "### 7. Extract a list of entry titles."
   ]
  },
  {
   "cell_type": "code",
   "execution_count": 11,
   "metadata": {},
   "outputs": [
    {
     "name": "stdout",
     "output_type": "stream",
     "text": [
      "['DeepCheapFakes', 'Radar trends to watch: May 2021', 'Checking Jeff Bezos’s Math', 'AI Adoption in the Enterprise 2021', 'NFTs: Owning Digital Art', 'Radar trends to watch: April 2021', 'InfoTribes, Reality Brokers', 'The End of Silicon Valley as We Know It?', 'The Next Generation of AI', 'Radar trends to watch: March 2021', 'Product Management for AI', '5 things on our data and AI radar for 2021', '5 infrastructure and operations trends to watch in 2021', 'The Wrong Question', 'Radar trends to watch: February 2021', 'Where Programming, Ops, AI, and the Cloud are Headed in 2021', 'Seven Legal Questions for Data Scientists', 'Patterns', 'Radar trends to watch: January 2021', 'Four short links: 14 Dec 2020', 'Four short links: 8 Dec 2020', 'O’Reilly’s top 20 live online training courses of 2020', 'What is functional programming?', 'Four short links: 4 Dec 2020', 'Four short links: 1 Dec 2020', 'Radar trends to watch: December 2020', 'Four short links: 27 Nov 2020', 'Four short links: 24 Nov 2020', 'Four short links: 20 Nov 2020', 'On Exactitude in Technical Debt', 'Four short links: 17 Nov 2020', 'Four short links: 13 Nov 2020', 'Multi-Paradigm Languages', 'Four short links: 10 November 2020', 'Four short links: 6 Nov 2020', 'Four short links: 4 Nov 2020', 'Radar trends to watch: November 2020', 'Four short links: 30 Oct 2020', 'Four short links: 28 Oct 2020', 'Our Favorite Questions', 'Four short links: 21 Oct 2020', 'Four Short Links: 16 October 2020', 'Four short links: 14 Oct 2020', 'AI Product Management After Deployment', 'Four short links: 9 October 2020', 'AI and Creativity', 'Four short links: 6 October 2020', 'Four short links: 2 October 2020', 'Radar trends to watch: October 2020', 'Four short links: 29 Sep 2020', 'Four short links: 25 September 2020', 'Four short links: 18 Sep 2020', 'Four short links: 16 Sep 2020', 'How to Set AI Goals', 'Four short links: 11 Sep 2020', 'Four short links: 9 Sep 2020', 'Pair Programming with AI', 'Four short links: 4 September 2020', 'Four short links: 2 September 2020', 'Radar trends to watch: September 2020']\n"
     ]
    }
   ],
   "source": [
    "titles = [burner.entries[i].title for i in range(len(burner.entries))]\n",
    "print(titles)"
   ]
  },
  {
   "cell_type": "markdown",
   "metadata": {},
   "source": [
    "### 8. Calculate the percentage of \"Four short links\" entry titles."
   ]
  },
  {
   "cell_type": "code",
   "execution_count": 29,
   "metadata": {},
   "outputs": [
    {
     "data": {
      "text/plain": [
       "32.75944524151124"
      ]
     },
     "execution_count": 29,
     "metadata": {},
     "output_type": "execute_result"
    }
   ],
   "source": [
    "titles_str=str(titles)\n",
    "(titles_str.find(\"Four short links\")/len(titles_str))*100"
   ]
  },
  {
   "cell_type": "markdown",
   "metadata": {},
   "source": [
    "### 9. Create a Pandas data frame from the feed's entries."
   ]
  },
  {
   "cell_type": "code",
   "execution_count": 13,
   "metadata": {},
   "outputs": [],
   "source": [
    "import pandas as pd"
   ]
  },
  {
   "cell_type": "code",
   "execution_count": 14,
   "metadata": {},
   "outputs": [
    {
     "data": {
      "text/html": [
       "<div>\n",
       "<style scoped>\n",
       "    .dataframe tbody tr th:only-of-type {\n",
       "        vertical-align: middle;\n",
       "    }\n",
       "\n",
       "    .dataframe tbody tr th {\n",
       "        vertical-align: top;\n",
       "    }\n",
       "\n",
       "    .dataframe thead th {\n",
       "        text-align: right;\n",
       "    }\n",
       "</style>\n",
       "<table border=\"1\" class=\"dataframe\">\n",
       "  <thead>\n",
       "    <tr style=\"text-align: right;\">\n",
       "      <th></th>\n",
       "      <th>title</th>\n",
       "      <th>title_detail</th>\n",
       "      <th>links</th>\n",
       "      <th>link</th>\n",
       "      <th>comments</th>\n",
       "      <th>published</th>\n",
       "      <th>published_parsed</th>\n",
       "      <th>authors</th>\n",
       "      <th>author</th>\n",
       "      <th>author_detail</th>\n",
       "      <th>tags</th>\n",
       "      <th>id</th>\n",
       "      <th>guidislink</th>\n",
       "      <th>summary</th>\n",
       "      <th>summary_detail</th>\n",
       "      <th>content</th>\n",
       "      <th>wfw_commentrss</th>\n",
       "      <th>slash_comments</th>\n",
       "      <th>feedburner_origlink</th>\n",
       "    </tr>\n",
       "  </thead>\n",
       "  <tbody>\n",
       "    <tr>\n",
       "      <th>0</th>\n",
       "      <td>DeepCheapFakes</td>\n",
       "      <td>{'type': 'text/plain', 'language': None, 'base...</td>\n",
       "      <td>[{'rel': 'alternate', 'type': 'text/html', 'hr...</td>\n",
       "      <td>http://feedproxy.google.com/~r/oreilly/radar/a...</td>\n",
       "      <td>https://www.oreilly.com/radar/deepcheapfakes/#...</td>\n",
       "      <td>Tue, 11 May 2021 11:58:37 +0000</td>\n",
       "      <td>(2021, 5, 11, 11, 58, 37, 1, 131, 0)</td>\n",
       "      <td>[{'name': 'Mike Loukides'}]</td>\n",
       "      <td>Mike Loukides</td>\n",
       "      <td>{'name': 'Mike Loukides'}</td>\n",
       "      <td>[{'term': 'Artificial Intelligence', 'scheme':...</td>\n",
       "      <td>https://www.oreilly.com/radar/?p=13768</td>\n",
       "      <td>False</td>\n",
       "      <td>Back in 2019, Ben Lorica and I wrote about  de...</td>\n",
       "      <td>{'type': 'text/html', 'language': None, 'base'...</td>\n",
       "      <td>[{'type': 'text/html', 'language': None, 'base...</td>\n",
       "      <td>https://www.oreilly.com/radar/deepcheapfakes/f...</td>\n",
       "      <td>0</td>\n",
       "      <td>https://www.oreilly.com/radar/deepcheapfakes/</td>\n",
       "    </tr>\n",
       "    <tr>\n",
       "      <th>1</th>\n",
       "      <td>Radar trends to watch: May 2021</td>\n",
       "      <td>{'type': 'text/plain', 'language': None, 'base...</td>\n",
       "      <td>[{'rel': 'alternate', 'type': 'text/html', 'hr...</td>\n",
       "      <td>http://feedproxy.google.com/~r/oreilly/radar/a...</td>\n",
       "      <td>https://www.oreilly.com/radar/radar-trends-to-...</td>\n",
       "      <td>Mon, 03 May 2021 14:05:40 +0000</td>\n",
       "      <td>(2021, 5, 3, 14, 5, 40, 0, 123, 0)</td>\n",
       "      <td>[{'name': 'Mike Loukides'}]</td>\n",
       "      <td>Mike Loukides</td>\n",
       "      <td>{'name': 'Mike Loukides'}</td>\n",
       "      <td>[{'term': 'Radar Trends', 'scheme': None, 'lab...</td>\n",
       "      <td>https://www.oreilly.com/radar/?p=13755</td>\n",
       "      <td>False</td>\n",
       "      <td>We’ll start with a moment of silence. RIP Dan ...</td>\n",
       "      <td>{'type': 'text/html', 'language': None, 'base'...</td>\n",
       "      <td>[{'type': 'text/html', 'language': None, 'base...</td>\n",
       "      <td>https://www.oreilly.com/radar/radar-trends-to-...</td>\n",
       "      <td>0</td>\n",
       "      <td>https://www.oreilly.com/radar/radar-trends-to-...</td>\n",
       "    </tr>\n",
       "    <tr>\n",
       "      <th>2</th>\n",
       "      <td>Checking Jeff Bezos’s Math</td>\n",
       "      <td>{'type': 'text/plain', 'language': None, 'base...</td>\n",
       "      <td>[{'rel': 'alternate', 'type': 'text/html', 'hr...</td>\n",
       "      <td>http://feedproxy.google.com/~r/oreilly/radar/a...</td>\n",
       "      <td>https://www.oreilly.com/radar/checking-jeff-be...</td>\n",
       "      <td>Fri, 23 Apr 2021 20:43:28 +0000</td>\n",
       "      <td>(2021, 4, 23, 20, 43, 28, 4, 113, 0)</td>\n",
       "      <td>[{'name': 'Tim O’Reilly'}]</td>\n",
       "      <td>Tim O’Reilly</td>\n",
       "      <td>{'name': 'Tim O’Reilly'}</td>\n",
       "      <td>[{'term': 'Business', 'scheme': None, 'label':...</td>\n",
       "      <td>https://www.oreilly.com/radar/?p=13748</td>\n",
       "      <td>False</td>\n",
       "      <td>“If you want to be successful in business (in ...</td>\n",
       "      <td>{'type': 'text/html', 'language': None, 'base'...</td>\n",
       "      <td>[{'type': 'text/html', 'language': None, 'base...</td>\n",
       "      <td>https://www.oreilly.com/radar/checking-jeff-be...</td>\n",
       "      <td>0</td>\n",
       "      <td>https://www.oreilly.com/radar/checking-jeff-be...</td>\n",
       "    </tr>\n",
       "    <tr>\n",
       "      <th>3</th>\n",
       "      <td>AI Adoption in the Enterprise 2021</td>\n",
       "      <td>{'type': 'text/plain', 'language': None, 'base...</td>\n",
       "      <td>[{'rel': 'alternate', 'type': 'text/html', 'hr...</td>\n",
       "      <td>http://feedproxy.google.com/~r/oreilly/radar/a...</td>\n",
       "      <td>https://www.oreilly.com/radar/ai-adoption-in-t...</td>\n",
       "      <td>Mon, 19 Apr 2021 12:20:38 +0000</td>\n",
       "      <td>(2021, 4, 19, 12, 20, 38, 0, 109, 0)</td>\n",
       "      <td>[{'name': 'Mike Loukides'}]</td>\n",
       "      <td>Mike Loukides</td>\n",
       "      <td>{'name': 'Mike Loukides'}</td>\n",
       "      <td>[{'term': 'AI &amp; ML', 'scheme': None, 'label': ...</td>\n",
       "      <td>https://www.oreilly.com/radar/?p=13720</td>\n",
       "      <td>False</td>\n",
       "      <td>During the first weeks of February, we asked r...</td>\n",
       "      <td>{'type': 'text/html', 'language': None, 'base'...</td>\n",
       "      <td>[{'type': 'text/html', 'language': None, 'base...</td>\n",
       "      <td>https://www.oreilly.com/radar/ai-adoption-in-t...</td>\n",
       "      <td>0</td>\n",
       "      <td>https://www.oreilly.com/radar/ai-adoption-in-t...</td>\n",
       "    </tr>\n",
       "    <tr>\n",
       "      <th>4</th>\n",
       "      <td>NFTs: Owning Digital Art</td>\n",
       "      <td>{'type': 'text/plain', 'language': None, 'base...</td>\n",
       "      <td>[{'rel': 'alternate', 'type': 'text/html', 'hr...</td>\n",
       "      <td>http://feedproxy.google.com/~r/oreilly/radar/a...</td>\n",
       "      <td>https://www.oreilly.com/radar/nfts-owning-digi...</td>\n",
       "      <td>Tue, 06 Apr 2021 18:43:26 +0000</td>\n",
       "      <td>(2021, 4, 6, 18, 43, 26, 1, 96, 0)</td>\n",
       "      <td>[{'name': 'Mike Loukides'}]</td>\n",
       "      <td>Mike Loukides</td>\n",
       "      <td>{'name': 'Mike Loukides'}</td>\n",
       "      <td>[{'term': 'Building a data culture', 'scheme':...</td>\n",
       "      <td>https://www.oreilly.com/radar/?p=13713</td>\n",
       "      <td>False</td>\n",
       "      <td>It would be hard to miss the commotion around ...</td>\n",
       "      <td>{'type': 'text/html', 'language': None, 'base'...</td>\n",
       "      <td>[{'type': 'text/html', 'language': None, 'base...</td>\n",
       "      <td>https://www.oreilly.com/radar/nfts-owning-digi...</td>\n",
       "      <td>0</td>\n",
       "      <td>https://www.oreilly.com/radar/nfts-owning-digi...</td>\n",
       "    </tr>\n",
       "  </tbody>\n",
       "</table>\n",
       "</div>"
      ],
      "text/plain": [
       "                                title  \\\n",
       "0                      DeepCheapFakes   \n",
       "1     Radar trends to watch: May 2021   \n",
       "2          Checking Jeff Bezos’s Math   \n",
       "3  AI Adoption in the Enterprise 2021   \n",
       "4            NFTs: Owning Digital Art   \n",
       "\n",
       "                                        title_detail  \\\n",
       "0  {'type': 'text/plain', 'language': None, 'base...   \n",
       "1  {'type': 'text/plain', 'language': None, 'base...   \n",
       "2  {'type': 'text/plain', 'language': None, 'base...   \n",
       "3  {'type': 'text/plain', 'language': None, 'base...   \n",
       "4  {'type': 'text/plain', 'language': None, 'base...   \n",
       "\n",
       "                                               links  \\\n",
       "0  [{'rel': 'alternate', 'type': 'text/html', 'hr...   \n",
       "1  [{'rel': 'alternate', 'type': 'text/html', 'hr...   \n",
       "2  [{'rel': 'alternate', 'type': 'text/html', 'hr...   \n",
       "3  [{'rel': 'alternate', 'type': 'text/html', 'hr...   \n",
       "4  [{'rel': 'alternate', 'type': 'text/html', 'hr...   \n",
       "\n",
       "                                                link  \\\n",
       "0  http://feedproxy.google.com/~r/oreilly/radar/a...   \n",
       "1  http://feedproxy.google.com/~r/oreilly/radar/a...   \n",
       "2  http://feedproxy.google.com/~r/oreilly/radar/a...   \n",
       "3  http://feedproxy.google.com/~r/oreilly/radar/a...   \n",
       "4  http://feedproxy.google.com/~r/oreilly/radar/a...   \n",
       "\n",
       "                                            comments  \\\n",
       "0  https://www.oreilly.com/radar/deepcheapfakes/#...   \n",
       "1  https://www.oreilly.com/radar/radar-trends-to-...   \n",
       "2  https://www.oreilly.com/radar/checking-jeff-be...   \n",
       "3  https://www.oreilly.com/radar/ai-adoption-in-t...   \n",
       "4  https://www.oreilly.com/radar/nfts-owning-digi...   \n",
       "\n",
       "                         published                      published_parsed  \\\n",
       "0  Tue, 11 May 2021 11:58:37 +0000  (2021, 5, 11, 11, 58, 37, 1, 131, 0)   \n",
       "1  Mon, 03 May 2021 14:05:40 +0000    (2021, 5, 3, 14, 5, 40, 0, 123, 0)   \n",
       "2  Fri, 23 Apr 2021 20:43:28 +0000  (2021, 4, 23, 20, 43, 28, 4, 113, 0)   \n",
       "3  Mon, 19 Apr 2021 12:20:38 +0000  (2021, 4, 19, 12, 20, 38, 0, 109, 0)   \n",
       "4  Tue, 06 Apr 2021 18:43:26 +0000    (2021, 4, 6, 18, 43, 26, 1, 96, 0)   \n",
       "\n",
       "                       authors         author              author_detail  \\\n",
       "0  [{'name': 'Mike Loukides'}]  Mike Loukides  {'name': 'Mike Loukides'}   \n",
       "1  [{'name': 'Mike Loukides'}]  Mike Loukides  {'name': 'Mike Loukides'}   \n",
       "2   [{'name': 'Tim O’Reilly'}]   Tim O’Reilly   {'name': 'Tim O’Reilly'}   \n",
       "3  [{'name': 'Mike Loukides'}]  Mike Loukides  {'name': 'Mike Loukides'}   \n",
       "4  [{'name': 'Mike Loukides'}]  Mike Loukides  {'name': 'Mike Loukides'}   \n",
       "\n",
       "                                                tags  \\\n",
       "0  [{'term': 'Artificial Intelligence', 'scheme':...   \n",
       "1  [{'term': 'Radar Trends', 'scheme': None, 'lab...   \n",
       "2  [{'term': 'Business', 'scheme': None, 'label':...   \n",
       "3  [{'term': 'AI & ML', 'scheme': None, 'label': ...   \n",
       "4  [{'term': 'Building a data culture', 'scheme':...   \n",
       "\n",
       "                                       id  guidislink  \\\n",
       "0  https://www.oreilly.com/radar/?p=13768       False   \n",
       "1  https://www.oreilly.com/radar/?p=13755       False   \n",
       "2  https://www.oreilly.com/radar/?p=13748       False   \n",
       "3  https://www.oreilly.com/radar/?p=13720       False   \n",
       "4  https://www.oreilly.com/radar/?p=13713       False   \n",
       "\n",
       "                                             summary  \\\n",
       "0  Back in 2019, Ben Lorica and I wrote about  de...   \n",
       "1  We’ll start with a moment of silence. RIP Dan ...   \n",
       "2  “If you want to be successful in business (in ...   \n",
       "3  During the first weeks of February, we asked r...   \n",
       "4  It would be hard to miss the commotion around ...   \n",
       "\n",
       "                                      summary_detail  \\\n",
       "0  {'type': 'text/html', 'language': None, 'base'...   \n",
       "1  {'type': 'text/html', 'language': None, 'base'...   \n",
       "2  {'type': 'text/html', 'language': None, 'base'...   \n",
       "3  {'type': 'text/html', 'language': None, 'base'...   \n",
       "4  {'type': 'text/html', 'language': None, 'base'...   \n",
       "\n",
       "                                             content  \\\n",
       "0  [{'type': 'text/html', 'language': None, 'base...   \n",
       "1  [{'type': 'text/html', 'language': None, 'base...   \n",
       "2  [{'type': 'text/html', 'language': None, 'base...   \n",
       "3  [{'type': 'text/html', 'language': None, 'base...   \n",
       "4  [{'type': 'text/html', 'language': None, 'base...   \n",
       "\n",
       "                                      wfw_commentrss slash_comments  \\\n",
       "0  https://www.oreilly.com/radar/deepcheapfakes/f...              0   \n",
       "1  https://www.oreilly.com/radar/radar-trends-to-...              0   \n",
       "2  https://www.oreilly.com/radar/checking-jeff-be...              0   \n",
       "3  https://www.oreilly.com/radar/ai-adoption-in-t...              0   \n",
       "4  https://www.oreilly.com/radar/nfts-owning-digi...              0   \n",
       "\n",
       "                                 feedburner_origlink  \n",
       "0      https://www.oreilly.com/radar/deepcheapfakes/  \n",
       "1  https://www.oreilly.com/radar/radar-trends-to-...  \n",
       "2  https://www.oreilly.com/radar/checking-jeff-be...  \n",
       "3  https://www.oreilly.com/radar/ai-adoption-in-t...  \n",
       "4  https://www.oreilly.com/radar/nfts-owning-digi...  "
      ]
     },
     "execution_count": 14,
     "metadata": {},
     "output_type": "execute_result"
    }
   ],
   "source": [
    "df = pd.DataFrame(burner.entries)\n",
    "df.head()"
   ]
  },
  {
   "cell_type": "markdown",
   "metadata": {},
   "source": [
    "### 10. Count the number of entries per author and sort them in descending order."
   ]
  },
  {
   "cell_type": "code",
   "execution_count": 15,
   "metadata": {},
   "outputs": [
    {
     "data": {
      "text/html": [
       "<div>\n",
       "<style scoped>\n",
       "    .dataframe tbody tr th:only-of-type {\n",
       "        vertical-align: middle;\n",
       "    }\n",
       "\n",
       "    .dataframe tbody tr th {\n",
       "        vertical-align: top;\n",
       "    }\n",
       "\n",
       "    .dataframe thead th {\n",
       "        text-align: right;\n",
       "    }\n",
       "</style>\n",
       "<table border=\"1\" class=\"dataframe\">\n",
       "  <thead>\n",
       "    <tr style=\"text-align: right;\">\n",
       "      <th></th>\n",
       "      <th>author</th>\n",
       "      <th>entries</th>\n",
       "    </tr>\n",
       "  </thead>\n",
       "  <tbody>\n",
       "    <tr>\n",
       "      <th>6</th>\n",
       "      <td>Nat Torkington</td>\n",
       "      <td>27</td>\n",
       "    </tr>\n",
       "    <tr>\n",
       "      <th>5</th>\n",
       "      <td>Mike Loukides</td>\n",
       "      <td>21</td>\n",
       "    </tr>\n",
       "    <tr>\n",
       "      <th>0</th>\n",
       "      <td></td>\n",
       "      <td>4</td>\n",
       "    </tr>\n",
       "    <tr>\n",
       "      <th>9</th>\n",
       "      <td>Tim O’Reilly</td>\n",
       "      <td>2</td>\n",
       "    </tr>\n",
       "    <tr>\n",
       "      <th>1</th>\n",
       "      <td>Alex Castrounis</td>\n",
       "      <td>1</td>\n",
       "    </tr>\n",
       "    <tr>\n",
       "      <th>2</th>\n",
       "      <td>Hugo Bowne-Anderson</td>\n",
       "      <td>1</td>\n",
       "    </tr>\n",
       "    <tr>\n",
       "      <th>3</th>\n",
       "      <td>Justin Norman and Mike Loukides</td>\n",
       "      <td>1</td>\n",
       "    </tr>\n",
       "    <tr>\n",
       "      <th>4</th>\n",
       "      <td>Kevlin Henney</td>\n",
       "      <td>1</td>\n",
       "    </tr>\n",
       "    <tr>\n",
       "      <th>7</th>\n",
       "      <td>Patrick Hall and Ayoub Ouederni</td>\n",
       "      <td>1</td>\n",
       "    </tr>\n",
       "    <tr>\n",
       "      <th>8</th>\n",
       "      <td>Q Ethan McCallum, Chris Butler and Shane Glynn</td>\n",
       "      <td>1</td>\n",
       "    </tr>\n",
       "  </tbody>\n",
       "</table>\n",
       "</div>"
      ],
      "text/plain": [
       "                                           author  entries\n",
       "6                                  Nat Torkington       27\n",
       "5                                   Mike Loukides       21\n",
       "0                                                        4\n",
       "9                                    Tim O’Reilly        2\n",
       "1                                 Alex Castrounis        1\n",
       "2                             Hugo Bowne-Anderson        1\n",
       "3                 Justin Norman and Mike Loukides        1\n",
       "4                                   Kevlin Henney        1\n",
       "7                 Patrick Hall and Ayoub Ouederni        1\n",
       "8  Q Ethan McCallum, Chris Butler and Shane Glynn        1"
      ]
     },
     "execution_count": 15,
     "metadata": {},
     "output_type": "execute_result"
    }
   ],
   "source": [
    "authors = df.groupby('author', as_index=False).agg({'title':'count'})\n",
    "authors.columns = ['author', 'entries']\n",
    "authors.sort_values('entries', ascending=False)"
   ]
  },
  {
   "cell_type": "markdown",
   "metadata": {},
   "source": [
    "### 11. Add a new column to the data frame that contains the length (number of characters) of each entry title. Return a data frame that contains the title, author, and title length of each entry in descending order (longest title length at the top)."
   ]
  },
  {
   "cell_type": "code",
   "execution_count": 16,
   "metadata": {},
   "outputs": [
    {
     "data": {
      "text/html": [
       "<div>\n",
       "<style scoped>\n",
       "    .dataframe tbody tr th:only-of-type {\n",
       "        vertical-align: middle;\n",
       "    }\n",
       "\n",
       "    .dataframe tbody tr th {\n",
       "        vertical-align: top;\n",
       "    }\n",
       "\n",
       "    .dataframe thead th {\n",
       "        text-align: right;\n",
       "    }\n",
       "</style>\n",
       "<table border=\"1\" class=\"dataframe\">\n",
       "  <thead>\n",
       "    <tr style=\"text-align: right;\">\n",
       "      <th></th>\n",
       "      <th>title</th>\n",
       "      <th>author</th>\n",
       "      <th>title_length</th>\n",
       "    </tr>\n",
       "  </thead>\n",
       "  <tbody>\n",
       "    <tr>\n",
       "      <th>15</th>\n",
       "      <td>Where Programming, Ops, AI, and the Cloud are ...</td>\n",
       "      <td>Mike Loukides</td>\n",
       "      <td>60</td>\n",
       "    </tr>\n",
       "    <tr>\n",
       "      <th>12</th>\n",
       "      <td>5 infrastructure and operations trends to watc...</td>\n",
       "      <td></td>\n",
       "      <td>55</td>\n",
       "    </tr>\n",
       "    <tr>\n",
       "      <th>21</th>\n",
       "      <td>O’Reilly’s top 20 live online training courses...</td>\n",
       "      <td></td>\n",
       "      <td>54</td>\n",
       "    </tr>\n",
       "    <tr>\n",
       "      <th>11</th>\n",
       "      <td>5 things on our data and AI radar for 2021</td>\n",
       "      <td></td>\n",
       "      <td>42</td>\n",
       "    </tr>\n",
       "    <tr>\n",
       "      <th>16</th>\n",
       "      <td>Seven Legal Questions for Data Scientists</td>\n",
       "      <td>Patrick Hall and Ayoub Ouederni</td>\n",
       "      <td>41</td>\n",
       "    </tr>\n",
       "  </tbody>\n",
       "</table>\n",
       "</div>"
      ],
      "text/plain": [
       "                                                title  \\\n",
       "15  Where Programming, Ops, AI, and the Cloud are ...   \n",
       "12  5 infrastructure and operations trends to watc...   \n",
       "21  O’Reilly’s top 20 live online training courses...   \n",
       "11         5 things on our data and AI radar for 2021   \n",
       "16          Seven Legal Questions for Data Scientists   \n",
       "\n",
       "                             author  title_length  \n",
       "15                    Mike Loukides            60  \n",
       "12                                             55  \n",
       "21                                             54  \n",
       "11                                             42  \n",
       "16  Patrick Hall and Ayoub Ouederni            41  "
      ]
     },
     "execution_count": 16,
     "metadata": {},
     "output_type": "execute_result"
    }
   ],
   "source": [
    "df['title_length'] = df['title'].apply(len)\n",
    "df[['title', 'author', 'title_length']].sort_values('title_length', ascending=False).head()"
   ]
  },
  {
   "cell_type": "markdown",
   "metadata": {},
   "source": [
    "### 12. Create a list of entry titles whose summary includes the phrase \"machine learning.\""
   ]
  },
  {
   "cell_type": "code",
   "execution_count": 32,
   "metadata": {},
   "outputs": [],
   "source": [
    "add_machin = [\"machin lerning\"+\" \"+x for x in titles]"
   ]
  },
  {
   "cell_type": "code",
   "execution_count": 33,
   "metadata": {},
   "outputs": [
    {
     "data": {
      "text/plain": [
       "['machin lerning DeepCheapFakes',\n",
       " 'machin lerning Radar trends to watch: May 2021',\n",
       " 'machin lerning Checking Jeff Bezos’s Math',\n",
       " 'machin lerning AI Adoption in the Enterprise 2021',\n",
       " 'machin lerning NFTs: Owning Digital Art',\n",
       " 'machin lerning Radar trends to watch: April 2021',\n",
       " 'machin lerning InfoTribes, Reality Brokers',\n",
       " 'machin lerning The End of Silicon Valley as We Know It?',\n",
       " 'machin lerning The Next Generation of AI',\n",
       " 'machin lerning Radar trends to watch: March 2021',\n",
       " 'machin lerning Product Management for AI',\n",
       " 'machin lerning 5 things on our data and AI radar for 2021',\n",
       " 'machin lerning 5 infrastructure and operations trends to watch in 2021',\n",
       " 'machin lerning The Wrong Question',\n",
       " 'machin lerning Radar trends to watch: February 2021',\n",
       " 'machin lerning Where Programming, Ops, AI, and the Cloud are Headed in 2021',\n",
       " 'machin lerning Seven Legal Questions for Data Scientists',\n",
       " 'machin lerning Patterns',\n",
       " 'machin lerning Radar trends to watch: January 2021',\n",
       " 'machin lerning Four short links: 14 Dec 2020',\n",
       " 'machin lerning Four short links: 8 Dec 2020',\n",
       " 'machin lerning O’Reilly’s top 20 live online training courses of 2020',\n",
       " 'machin lerning What is functional programming?',\n",
       " 'machin lerning Four short links: 4 Dec 2020',\n",
       " 'machin lerning Four short links: 1 Dec 2020',\n",
       " 'machin lerning Radar trends to watch: December 2020',\n",
       " 'machin lerning Four short links: 27 Nov 2020',\n",
       " 'machin lerning Four short links: 24 Nov 2020',\n",
       " 'machin lerning Four short links: 20 Nov 2020',\n",
       " 'machin lerning On Exactitude in Technical Debt',\n",
       " 'machin lerning Four short links: 17 Nov 2020',\n",
       " 'machin lerning Four short links: 13 Nov 2020',\n",
       " 'machin lerning Multi-Paradigm Languages',\n",
       " 'machin lerning Four short links: 10 November 2020',\n",
       " 'machin lerning Four short links: 6 Nov 2020',\n",
       " 'machin lerning Four short links: 4 Nov 2020',\n",
       " 'machin lerning Radar trends to watch: November 2020',\n",
       " 'machin lerning Four short links: 30 Oct 2020',\n",
       " 'machin lerning Four short links: 28 Oct 2020',\n",
       " 'machin lerning Our Favorite Questions',\n",
       " 'machin lerning Four short links: 21 Oct 2020',\n",
       " 'machin lerning Four Short Links: 16 October 2020',\n",
       " 'machin lerning Four short links: 14 Oct 2020',\n",
       " 'machin lerning AI Product Management After Deployment',\n",
       " 'machin lerning Four short links: 9 October 2020',\n",
       " 'machin lerning AI and Creativity',\n",
       " 'machin lerning Four short links: 6 October 2020',\n",
       " 'machin lerning Four short links: 2 October 2020',\n",
       " 'machin lerning Radar trends to watch: October 2020',\n",
       " 'machin lerning Four short links: 29 Sep 2020',\n",
       " 'machin lerning Four short links: 25 September 2020',\n",
       " 'machin lerning Four short links: 18 Sep 2020',\n",
       " 'machin lerning Four short links: 16 Sep 2020',\n",
       " 'machin lerning How to Set AI Goals',\n",
       " 'machin lerning Four short links: 11 Sep 2020',\n",
       " 'machin lerning Four short links: 9 Sep 2020',\n",
       " 'machin lerning Pair Programming with AI',\n",
       " 'machin lerning Four short links: 4 September 2020',\n",
       " 'machin lerning Four short links: 2 September 2020',\n",
       " 'machin lerning Radar trends to watch: September 2020']"
      ]
     },
     "execution_count": 33,
     "metadata": {},
     "output_type": "execute_result"
    }
   ],
   "source": [
    "add_machin"
   ]
  }
 ],
 "metadata": {
  "kernelspec": {
   "display_name": "Python 3",
   "language": "python",
   "name": "python3"
  },
  "language_info": {
   "codemirror_mode": {
    "name": "ipython",
    "version": 3
   },
   "file_extension": ".py",
   "mimetype": "text/x-python",
   "name": "python",
   "nbconvert_exporter": "python",
   "pygments_lexer": "ipython3",
   "version": "3.9.2"
  }
 },
 "nbformat": 4,
 "nbformat_minor": 2
}
