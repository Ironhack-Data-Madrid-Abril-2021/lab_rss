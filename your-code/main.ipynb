{
 "cells": [
  {
   "cell_type": "markdown",
   "metadata": {},
   "source": [
    "# Working with RSS Feeds Lab\n",
    "\n",
    "Complete the following set of exercises to solidify your knowledge of parsing RSS feeds and extracting information from them."
   ]
  },
  {
   "cell_type": "code",
   "execution_count": 1,
   "metadata": {},
   "outputs": [
    {
     "name": "stdout",
     "output_type": "stream",
     "text": [
      "Collecting feedparser\n",
      "  Using cached feedparser-6.0.2-py3-none-any.whl (80 kB)\n",
      "Collecting sgmllib3k\n",
      "  Using cached sgmllib3k-1.0.0.tar.gz (5.8 kB)\n",
      "Building wheels for collected packages: sgmllib3k\n",
      "  Building wheel for sgmllib3k (setup.py) ... \u001b[?25ldone\n",
      "\u001b[?25h  Created wheel for sgmllib3k: filename=sgmllib3k-1.0.0-py3-none-any.whl size=6065 sha256=20ae2798d727c6cf977e62cb0bd546c7d8e40b1c4e9107706a25ccf2a6eb9234\n",
      "  Stored in directory: /Users/alexmendezsomoza/Library/Caches/pip/wheels/83/63/2f/117884c3b19d46b64d3d61690333aa80c88dc14050e269c546\n",
      "Successfully built sgmllib3k\n",
      "Installing collected packages: sgmllib3k, feedparser\n",
      "Successfully installed feedparser-6.0.2 sgmllib3k-1.0.0\n"
     ]
    }
   ],
   "source": [
    "!pip install feedparser"
   ]
  },
  {
   "cell_type": "code",
   "execution_count": 2,
   "metadata": {},
   "outputs": [],
   "source": [
    "import feedparser"
   ]
  },
  {
   "cell_type": "markdown",
   "metadata": {},
   "source": [
    "### 1. Use feedparser to parse the following RSS feed URL."
   ]
  },
  {
   "cell_type": "code",
   "execution_count": 4,
   "metadata": {},
   "outputs": [],
   "source": [
    "url = 'http://feeds.feedburner.com/oreilly/radar/atom'"
   ]
  },
  {
   "cell_type": "code",
   "execution_count": 17,
   "metadata": {},
   "outputs": [],
   "source": [
    "feeds = feedparser.parse(url)"
   ]
  },
  {
   "cell_type": "markdown",
   "metadata": {},
   "source": [
    "### 2. Obtain a list of components (keys) that are available for this feed."
   ]
  },
  {
   "cell_type": "code",
   "execution_count": 6,
   "metadata": {},
   "outputs": [
    {
     "data": {
      "text/plain": [
       "dict_keys(['bozo', 'entries', 'feed', 'headers', 'updated', 'updated_parsed', 'href', 'status', 'encoding', 'version', 'namespaces'])"
      ]
     },
     "execution_count": 6,
     "metadata": {},
     "output_type": "execute_result"
    }
   ],
   "source": [
    "feeds.keys()"
   ]
  },
  {
   "cell_type": "markdown",
   "metadata": {},
   "source": [
    "### 3. Obtain a list of components (keys) that are available for the *feed* component of this RSS feed."
   ]
  },
  {
   "cell_type": "code",
   "execution_count": 7,
   "metadata": {},
   "outputs": [
    {
     "data": {
      "text/plain": [
       "dict_keys(['title', 'title_detail', 'links', 'link', 'subtitle', 'subtitle_detail', 'updated', 'updated_parsed', 'language', 'sy_updateperiod', 'sy_updatefrequency', 'generator_detail', 'generator', 'feedburner_info', 'geo_lat', 'geo_long', 'feedburner_emailserviceid', 'feedburner_feedburnerhostname'])"
      ]
     },
     "execution_count": 7,
     "metadata": {},
     "output_type": "execute_result"
    }
   ],
   "source": [
    "feeds['feed'].keys()"
   ]
  },
  {
   "cell_type": "markdown",
   "metadata": {},
   "source": [
    "### 4. Extract and print the feed title, subtitle, author, and link."
   ]
  },
  {
   "cell_type": "code",
   "execution_count": 8,
   "metadata": {},
   "outputs": [
    {
     "data": {
      "text/plain": [
       "'Radar'"
      ]
     },
     "execution_count": 8,
     "metadata": {},
     "output_type": "execute_result"
    }
   ],
   "source": [
    "feeds['feed']['title']"
   ]
  },
  {
   "cell_type": "code",
   "execution_count": 9,
   "metadata": {},
   "outputs": [
    {
     "data": {
      "text/plain": [
       "'Now, next, and beyond: Tracking need-to-know trends at the intersection of business and technology'"
      ]
     },
     "execution_count": 9,
     "metadata": {},
     "output_type": "execute_result"
    }
   ],
   "source": [
    "feeds['feed']['subtitle']"
   ]
  },
  {
   "cell_type": "code",
   "execution_count": 11,
   "metadata": {},
   "outputs": [
    {
     "data": {
      "text/plain": [
       "'https://www.oreilly.com/radar'"
      ]
     },
     "execution_count": 11,
     "metadata": {},
     "output_type": "execute_result"
    }
   ],
   "source": [
    "feeds['feed']['link']"
   ]
  },
  {
   "cell_type": "code",
   "execution_count": 55,
   "metadata": {},
   "outputs": [
    {
     "data": {
      "text/plain": [
       "[{'name': 'Mike Loukides'}]"
      ]
     },
     "execution_count": 55,
     "metadata": {},
     "output_type": "execute_result"
    }
   ],
   "source": [
    "feeds['entries'][0]['authors']\n",
    "\n",
    "# author no me aparece"
   ]
  },
  {
   "cell_type": "markdown",
   "metadata": {},
   "source": [
    "### 5. Count the number of entries that are contained in this RSS feed."
   ]
  },
  {
   "cell_type": "code",
   "execution_count": 15,
   "metadata": {},
   "outputs": [
    {
     "data": {
      "text/plain": [
       "60"
      ]
     },
     "execution_count": 15,
     "metadata": {},
     "output_type": "execute_result"
    }
   ],
   "source": [
    "len(feeds['entries'])"
   ]
  },
  {
   "cell_type": "markdown",
   "metadata": {},
   "source": [
    "### 6. Obtain a list of components (keys) available for an entry.\n",
    "\n",
    "*Hint: Remember to index first before requesting the keys*"
   ]
  },
  {
   "cell_type": "code",
   "execution_count": 40,
   "metadata": {},
   "outputs": [
    {
     "data": {
      "text/plain": [
       "dict_keys(['title', 'title_detail', 'links', 'link', 'comments', 'published', 'published_parsed', 'authors', 'author', 'author_detail', 'tags', 'id', 'guidislink', 'summary', 'summary_detail', 'content', 'wfw_commentrss', 'slash_comments', 'feedburner_origlink'])"
      ]
     },
     "execution_count": 40,
     "metadata": {},
     "output_type": "execute_result"
    }
   ],
   "source": [
    "feeds['entries'][0].keys()"
   ]
  },
  {
   "cell_type": "markdown",
   "metadata": {},
   "source": [
    "### 7. Extract a list of entry titles."
   ]
  },
  {
   "cell_type": "code",
   "execution_count": 78,
   "metadata": {},
   "outputs": [
    {
     "data": {
      "text/plain": [
       "['DeepCheapFakes',\n",
       " 'Radar trends to watch: May 2021',\n",
       " 'Checking Jeff Bezos’s Math',\n",
       " 'AI Adoption in the Enterprise 2021',\n",
       " 'NFTs: Owning Digital Art',\n",
       " 'Radar trends to watch: April 2021',\n",
       " 'InfoTribes, Reality Brokers',\n",
       " 'The End of Silicon Valley as We Know It?',\n",
       " 'The Next Generation of AI',\n",
       " 'Radar trends to watch: March 2021',\n",
       " 'Product Management for AI',\n",
       " '5 things on our data and AI radar for 2021',\n",
       " '5 infrastructure and operations trends to watch in 2021',\n",
       " 'The Wrong Question',\n",
       " 'Radar trends to watch: February 2021',\n",
       " 'Where Programming, Ops, AI, and the Cloud are Headed in 2021',\n",
       " 'Seven Legal Questions for Data Scientists',\n",
       " 'Patterns',\n",
       " 'Radar trends to watch: January 2021',\n",
       " 'Four short links: 14 Dec 2020',\n",
       " 'Four short links: 8 Dec 2020',\n",
       " 'O’Reilly’s top 20 live online training courses of 2020',\n",
       " 'What is functional programming?',\n",
       " 'Four short links: 4 Dec 2020',\n",
       " 'Four short links: 1 Dec 2020',\n",
       " 'Radar trends to watch: December 2020',\n",
       " 'Four short links: 27 Nov 2020',\n",
       " 'Four short links: 24 Nov 2020',\n",
       " 'Four short links: 20 Nov 2020',\n",
       " 'On Exactitude in Technical Debt',\n",
       " 'Four short links: 17 Nov 2020',\n",
       " 'Four short links: 13 Nov 2020',\n",
       " 'Multi-Paradigm Languages',\n",
       " 'Four short links: 10 November 2020',\n",
       " 'Four short links: 6 Nov 2020',\n",
       " 'Four short links: 4 Nov 2020',\n",
       " 'Radar trends to watch: November 2020',\n",
       " 'Four short links: 30 Oct 2020',\n",
       " 'Four short links: 28 Oct 2020',\n",
       " 'Our Favorite Questions',\n",
       " 'Four short links: 21 Oct 2020',\n",
       " 'Four Short Links: 16 October 2020',\n",
       " 'Four short links: 14 Oct 2020',\n",
       " 'AI Product Management After Deployment',\n",
       " 'Four short links: 9 October 2020',\n",
       " 'AI and Creativity',\n",
       " 'Four short links: 6 October 2020',\n",
       " 'Four short links: 2 October 2020',\n",
       " 'Radar trends to watch: October 2020',\n",
       " 'Four short links: 29 Sep 2020',\n",
       " 'Four short links: 25 September 2020',\n",
       " 'Four short links: 18 Sep 2020',\n",
       " 'Four short links: 16 Sep 2020',\n",
       " 'How to Set AI Goals',\n",
       " 'Four short links: 11 Sep 2020',\n",
       " 'Four short links: 9 Sep 2020',\n",
       " 'Pair Programming with AI',\n",
       " 'Four short links: 4 September 2020',\n",
       " 'Four short links: 2 September 2020',\n",
       " 'Radar trends to watch: September 2020']"
      ]
     },
     "execution_count": 78,
     "metadata": {},
     "output_type": "execute_result"
    }
   ],
   "source": [
    "\n",
    "entry = [i['title'] for i in feeds['entries']]\n",
    "\n",
    "entry"
   ]
  },
  {
   "cell_type": "markdown",
   "metadata": {},
   "source": [
    "### 8. Calculate the percentage of \"Four short links\" entry titles."
   ]
  },
  {
   "cell_type": "code",
   "execution_count": 109,
   "metadata": {},
   "outputs": [
    {
     "data": {
      "text/plain": [
       "45.0"
      ]
     },
     "execution_count": 109,
     "metadata": {},
     "output_type": "execute_result"
    }
   ],
   "source": [
    "entry\n",
    "\n",
    "conteo = sum('Four short links' in i for i in entry)\n",
    "\n",
    "len(entry)\n",
    "\n",
    "porcentaje = conteo*100/len(entry)\n",
    "\n",
    "porcentaje\n",
    "    "
   ]
  },
  {
   "cell_type": "markdown",
   "metadata": {},
   "source": [
    "### 9. Create a Pandas data frame from the feed's entries."
   ]
  },
  {
   "cell_type": "code",
   "execution_count": 82,
   "metadata": {},
   "outputs": [
    {
     "data": {
      "text/html": [
       "<div>\n",
       "<style scoped>\n",
       "    .dataframe tbody tr th:only-of-type {\n",
       "        vertical-align: middle;\n",
       "    }\n",
       "\n",
       "    .dataframe tbody tr th {\n",
       "        vertical-align: top;\n",
       "    }\n",
       "\n",
       "    .dataframe thead th {\n",
       "        text-align: right;\n",
       "    }\n",
       "</style>\n",
       "<table border=\"1\" class=\"dataframe\">\n",
       "  <thead>\n",
       "    <tr style=\"text-align: right;\">\n",
       "      <th></th>\n",
       "      <th>title</th>\n",
       "      <th>title_detail</th>\n",
       "      <th>links</th>\n",
       "      <th>link</th>\n",
       "      <th>comments</th>\n",
       "      <th>published</th>\n",
       "      <th>published_parsed</th>\n",
       "      <th>authors</th>\n",
       "      <th>author</th>\n",
       "      <th>author_detail</th>\n",
       "      <th>tags</th>\n",
       "      <th>id</th>\n",
       "      <th>guidislink</th>\n",
       "      <th>summary</th>\n",
       "      <th>summary_detail</th>\n",
       "      <th>content</th>\n",
       "      <th>wfw_commentrss</th>\n",
       "      <th>slash_comments</th>\n",
       "      <th>feedburner_origlink</th>\n",
       "    </tr>\n",
       "  </thead>\n",
       "  <tbody>\n",
       "    <tr>\n",
       "      <th>0</th>\n",
       "      <td>DeepCheapFakes</td>\n",
       "      <td>{'type': 'text/plain', 'language': None, 'base...</td>\n",
       "      <td>[{'rel': 'alternate', 'type': 'text/html', 'hr...</td>\n",
       "      <td>http://feedproxy.google.com/~r/oreilly/radar/a...</td>\n",
       "      <td>https://www.oreilly.com/radar/deepcheapfakes/#...</td>\n",
       "      <td>Tue, 11 May 2021 11:58:37 +0000</td>\n",
       "      <td>(2021, 5, 11, 11, 58, 37, 1, 131, 0)</td>\n",
       "      <td>[{'name': 'Mike Loukides'}]</td>\n",
       "      <td>Mike Loukides</td>\n",
       "      <td>{'name': 'Mike Loukides'}</td>\n",
       "      <td>[{'term': 'Artificial Intelligence', 'scheme':...</td>\n",
       "      <td>https://www.oreilly.com/radar/?p=13768</td>\n",
       "      <td>False</td>\n",
       "      <td>Back in 2019, Ben Lorica and I wrote about  de...</td>\n",
       "      <td>{'type': 'text/html', 'language': None, 'base'...</td>\n",
       "      <td>[{'type': 'text/html', 'language': None, 'base...</td>\n",
       "      <td>https://www.oreilly.com/radar/deepcheapfakes/f...</td>\n",
       "      <td>0</td>\n",
       "      <td>https://www.oreilly.com/radar/deepcheapfakes/</td>\n",
       "    </tr>\n",
       "    <tr>\n",
       "      <th>1</th>\n",
       "      <td>Radar trends to watch: May 2021</td>\n",
       "      <td>{'type': 'text/plain', 'language': None, 'base...</td>\n",
       "      <td>[{'rel': 'alternate', 'type': 'text/html', 'hr...</td>\n",
       "      <td>http://feedproxy.google.com/~r/oreilly/radar/a...</td>\n",
       "      <td>https://www.oreilly.com/radar/radar-trends-to-...</td>\n",
       "      <td>Mon, 03 May 2021 14:05:40 +0000</td>\n",
       "      <td>(2021, 5, 3, 14, 5, 40, 0, 123, 0)</td>\n",
       "      <td>[{'name': 'Mike Loukides'}]</td>\n",
       "      <td>Mike Loukides</td>\n",
       "      <td>{'name': 'Mike Loukides'}</td>\n",
       "      <td>[{'term': 'Radar Trends', 'scheme': None, 'lab...</td>\n",
       "      <td>https://www.oreilly.com/radar/?p=13755</td>\n",
       "      <td>False</td>\n",
       "      <td>We’ll start with a moment of silence. RIP Dan ...</td>\n",
       "      <td>{'type': 'text/html', 'language': None, 'base'...</td>\n",
       "      <td>[{'type': 'text/html', 'language': None, 'base...</td>\n",
       "      <td>https://www.oreilly.com/radar/radar-trends-to-...</td>\n",
       "      <td>0</td>\n",
       "      <td>https://www.oreilly.com/radar/radar-trends-to-...</td>\n",
       "    </tr>\n",
       "    <tr>\n",
       "      <th>2</th>\n",
       "      <td>Checking Jeff Bezos’s Math</td>\n",
       "      <td>{'type': 'text/plain', 'language': None, 'base...</td>\n",
       "      <td>[{'rel': 'alternate', 'type': 'text/html', 'hr...</td>\n",
       "      <td>http://feedproxy.google.com/~r/oreilly/radar/a...</td>\n",
       "      <td>https://www.oreilly.com/radar/checking-jeff-be...</td>\n",
       "      <td>Fri, 23 Apr 2021 20:43:28 +0000</td>\n",
       "      <td>(2021, 4, 23, 20, 43, 28, 4, 113, 0)</td>\n",
       "      <td>[{'name': 'Tim O’Reilly'}]</td>\n",
       "      <td>Tim O’Reilly</td>\n",
       "      <td>{'name': 'Tim O’Reilly'}</td>\n",
       "      <td>[{'term': 'Business', 'scheme': None, 'label':...</td>\n",
       "      <td>https://www.oreilly.com/radar/?p=13748</td>\n",
       "      <td>False</td>\n",
       "      <td>“If you want to be successful in business (in ...</td>\n",
       "      <td>{'type': 'text/html', 'language': None, 'base'...</td>\n",
       "      <td>[{'type': 'text/html', 'language': None, 'base...</td>\n",
       "      <td>https://www.oreilly.com/radar/checking-jeff-be...</td>\n",
       "      <td>0</td>\n",
       "      <td>https://www.oreilly.com/radar/checking-jeff-be...</td>\n",
       "    </tr>\n",
       "    <tr>\n",
       "      <th>3</th>\n",
       "      <td>AI Adoption in the Enterprise 2021</td>\n",
       "      <td>{'type': 'text/plain', 'language': None, 'base...</td>\n",
       "      <td>[{'rel': 'alternate', 'type': 'text/html', 'hr...</td>\n",
       "      <td>http://feedproxy.google.com/~r/oreilly/radar/a...</td>\n",
       "      <td>https://www.oreilly.com/radar/ai-adoption-in-t...</td>\n",
       "      <td>Mon, 19 Apr 2021 12:20:38 +0000</td>\n",
       "      <td>(2021, 4, 19, 12, 20, 38, 0, 109, 0)</td>\n",
       "      <td>[{'name': 'Mike Loukides'}]</td>\n",
       "      <td>Mike Loukides</td>\n",
       "      <td>{'name': 'Mike Loukides'}</td>\n",
       "      <td>[{'term': 'AI &amp; ML', 'scheme': None, 'label': ...</td>\n",
       "      <td>https://www.oreilly.com/radar/?p=13720</td>\n",
       "      <td>False</td>\n",
       "      <td>During the first weeks of February, we asked r...</td>\n",
       "      <td>{'type': 'text/html', 'language': None, 'base'...</td>\n",
       "      <td>[{'type': 'text/html', 'language': None, 'base...</td>\n",
       "      <td>https://www.oreilly.com/radar/ai-adoption-in-t...</td>\n",
       "      <td>0</td>\n",
       "      <td>https://www.oreilly.com/radar/ai-adoption-in-t...</td>\n",
       "    </tr>\n",
       "    <tr>\n",
       "      <th>4</th>\n",
       "      <td>NFTs: Owning Digital Art</td>\n",
       "      <td>{'type': 'text/plain', 'language': None, 'base...</td>\n",
       "      <td>[{'rel': 'alternate', 'type': 'text/html', 'hr...</td>\n",
       "      <td>http://feedproxy.google.com/~r/oreilly/radar/a...</td>\n",
       "      <td>https://www.oreilly.com/radar/nfts-owning-digi...</td>\n",
       "      <td>Tue, 06 Apr 2021 18:43:26 +0000</td>\n",
       "      <td>(2021, 4, 6, 18, 43, 26, 1, 96, 0)</td>\n",
       "      <td>[{'name': 'Mike Loukides'}]</td>\n",
       "      <td>Mike Loukides</td>\n",
       "      <td>{'name': 'Mike Loukides'}</td>\n",
       "      <td>[{'term': 'Building a data culture', 'scheme':...</td>\n",
       "      <td>https://www.oreilly.com/radar/?p=13713</td>\n",
       "      <td>False</td>\n",
       "      <td>It would be hard to miss the commotion around ...</td>\n",
       "      <td>{'type': 'text/html', 'language': None, 'base'...</td>\n",
       "      <td>[{'type': 'text/html', 'language': None, 'base...</td>\n",
       "      <td>https://www.oreilly.com/radar/nfts-owning-digi...</td>\n",
       "      <td>0</td>\n",
       "      <td>https://www.oreilly.com/radar/nfts-owning-digi...</td>\n",
       "    </tr>\n",
       "  </tbody>\n",
       "</table>\n",
       "</div>"
      ],
      "text/plain": [
       "                                title  \\\n",
       "0                      DeepCheapFakes   \n",
       "1     Radar trends to watch: May 2021   \n",
       "2          Checking Jeff Bezos’s Math   \n",
       "3  AI Adoption in the Enterprise 2021   \n",
       "4            NFTs: Owning Digital Art   \n",
       "\n",
       "                                        title_detail  \\\n",
       "0  {'type': 'text/plain', 'language': None, 'base...   \n",
       "1  {'type': 'text/plain', 'language': None, 'base...   \n",
       "2  {'type': 'text/plain', 'language': None, 'base...   \n",
       "3  {'type': 'text/plain', 'language': None, 'base...   \n",
       "4  {'type': 'text/plain', 'language': None, 'base...   \n",
       "\n",
       "                                               links  \\\n",
       "0  [{'rel': 'alternate', 'type': 'text/html', 'hr...   \n",
       "1  [{'rel': 'alternate', 'type': 'text/html', 'hr...   \n",
       "2  [{'rel': 'alternate', 'type': 'text/html', 'hr...   \n",
       "3  [{'rel': 'alternate', 'type': 'text/html', 'hr...   \n",
       "4  [{'rel': 'alternate', 'type': 'text/html', 'hr...   \n",
       "\n",
       "                                                link  \\\n",
       "0  http://feedproxy.google.com/~r/oreilly/radar/a...   \n",
       "1  http://feedproxy.google.com/~r/oreilly/radar/a...   \n",
       "2  http://feedproxy.google.com/~r/oreilly/radar/a...   \n",
       "3  http://feedproxy.google.com/~r/oreilly/radar/a...   \n",
       "4  http://feedproxy.google.com/~r/oreilly/radar/a...   \n",
       "\n",
       "                                            comments  \\\n",
       "0  https://www.oreilly.com/radar/deepcheapfakes/#...   \n",
       "1  https://www.oreilly.com/radar/radar-trends-to-...   \n",
       "2  https://www.oreilly.com/radar/checking-jeff-be...   \n",
       "3  https://www.oreilly.com/radar/ai-adoption-in-t...   \n",
       "4  https://www.oreilly.com/radar/nfts-owning-digi...   \n",
       "\n",
       "                         published                      published_parsed  \\\n",
       "0  Tue, 11 May 2021 11:58:37 +0000  (2021, 5, 11, 11, 58, 37, 1, 131, 0)   \n",
       "1  Mon, 03 May 2021 14:05:40 +0000    (2021, 5, 3, 14, 5, 40, 0, 123, 0)   \n",
       "2  Fri, 23 Apr 2021 20:43:28 +0000  (2021, 4, 23, 20, 43, 28, 4, 113, 0)   \n",
       "3  Mon, 19 Apr 2021 12:20:38 +0000  (2021, 4, 19, 12, 20, 38, 0, 109, 0)   \n",
       "4  Tue, 06 Apr 2021 18:43:26 +0000    (2021, 4, 6, 18, 43, 26, 1, 96, 0)   \n",
       "\n",
       "                       authors         author              author_detail  \\\n",
       "0  [{'name': 'Mike Loukides'}]  Mike Loukides  {'name': 'Mike Loukides'}   \n",
       "1  [{'name': 'Mike Loukides'}]  Mike Loukides  {'name': 'Mike Loukides'}   \n",
       "2   [{'name': 'Tim O’Reilly'}]   Tim O’Reilly   {'name': 'Tim O’Reilly'}   \n",
       "3  [{'name': 'Mike Loukides'}]  Mike Loukides  {'name': 'Mike Loukides'}   \n",
       "4  [{'name': 'Mike Loukides'}]  Mike Loukides  {'name': 'Mike Loukides'}   \n",
       "\n",
       "                                                tags  \\\n",
       "0  [{'term': 'Artificial Intelligence', 'scheme':...   \n",
       "1  [{'term': 'Radar Trends', 'scheme': None, 'lab...   \n",
       "2  [{'term': 'Business', 'scheme': None, 'label':...   \n",
       "3  [{'term': 'AI & ML', 'scheme': None, 'label': ...   \n",
       "4  [{'term': 'Building a data culture', 'scheme':...   \n",
       "\n",
       "                                       id  guidislink  \\\n",
       "0  https://www.oreilly.com/radar/?p=13768       False   \n",
       "1  https://www.oreilly.com/radar/?p=13755       False   \n",
       "2  https://www.oreilly.com/radar/?p=13748       False   \n",
       "3  https://www.oreilly.com/radar/?p=13720       False   \n",
       "4  https://www.oreilly.com/radar/?p=13713       False   \n",
       "\n",
       "                                             summary  \\\n",
       "0  Back in 2019, Ben Lorica and I wrote about  de...   \n",
       "1  We’ll start with a moment of silence. RIP Dan ...   \n",
       "2  “If you want to be successful in business (in ...   \n",
       "3  During the first weeks of February, we asked r...   \n",
       "4  It would be hard to miss the commotion around ...   \n",
       "\n",
       "                                      summary_detail  \\\n",
       "0  {'type': 'text/html', 'language': None, 'base'...   \n",
       "1  {'type': 'text/html', 'language': None, 'base'...   \n",
       "2  {'type': 'text/html', 'language': None, 'base'...   \n",
       "3  {'type': 'text/html', 'language': None, 'base'...   \n",
       "4  {'type': 'text/html', 'language': None, 'base'...   \n",
       "\n",
       "                                             content  \\\n",
       "0  [{'type': 'text/html', 'language': None, 'base...   \n",
       "1  [{'type': 'text/html', 'language': None, 'base...   \n",
       "2  [{'type': 'text/html', 'language': None, 'base...   \n",
       "3  [{'type': 'text/html', 'language': None, 'base...   \n",
       "4  [{'type': 'text/html', 'language': None, 'base...   \n",
       "\n",
       "                                      wfw_commentrss slash_comments  \\\n",
       "0  https://www.oreilly.com/radar/deepcheapfakes/f...              0   \n",
       "1  https://www.oreilly.com/radar/radar-trends-to-...              0   \n",
       "2  https://www.oreilly.com/radar/checking-jeff-be...              0   \n",
       "3  https://www.oreilly.com/radar/ai-adoption-in-t...              0   \n",
       "4  https://www.oreilly.com/radar/nfts-owning-digi...              0   \n",
       "\n",
       "                                 feedburner_origlink  \n",
       "0      https://www.oreilly.com/radar/deepcheapfakes/  \n",
       "1  https://www.oreilly.com/radar/radar-trends-to-...  \n",
       "2  https://www.oreilly.com/radar/checking-jeff-be...  \n",
       "3  https://www.oreilly.com/radar/ai-adoption-in-t...  \n",
       "4  https://www.oreilly.com/radar/nfts-owning-digi...  "
      ]
     },
     "execution_count": 82,
     "metadata": {},
     "output_type": "execute_result"
    }
   ],
   "source": [
    "import pandas as pd\n",
    "\n",
    "df = pd.DataFrame(feeds.entries)\n",
    "\n",
    "df.head()"
   ]
  },
  {
   "cell_type": "code",
   "execution_count": null,
   "metadata": {},
   "outputs": [],
   "source": [
    "import pandas as pd"
   ]
  },
  {
   "cell_type": "markdown",
   "metadata": {},
   "source": [
    "### 10. Count the number of entries per author and sort them in descending order."
   ]
  },
  {
   "cell_type": "code",
   "execution_count": 110,
   "metadata": {},
   "outputs": [
    {
     "data": {
      "text/html": [
       "<div>\n",
       "<style scoped>\n",
       "    .dataframe tbody tr th:only-of-type {\n",
       "        vertical-align: middle;\n",
       "    }\n",
       "\n",
       "    .dataframe tbody tr th {\n",
       "        vertical-align: top;\n",
       "    }\n",
       "\n",
       "    .dataframe thead th {\n",
       "        text-align: right;\n",
       "    }\n",
       "</style>\n",
       "<table border=\"1\" class=\"dataframe\">\n",
       "  <thead>\n",
       "    <tr style=\"text-align: right;\">\n",
       "      <th></th>\n",
       "      <th>author</th>\n",
       "      <th>entries</th>\n",
       "    </tr>\n",
       "  </thead>\n",
       "  <tbody>\n",
       "    <tr>\n",
       "      <th>6</th>\n",
       "      <td>Nat Torkington</td>\n",
       "      <td>27</td>\n",
       "    </tr>\n",
       "    <tr>\n",
       "      <th>5</th>\n",
       "      <td>Mike Loukides</td>\n",
       "      <td>21</td>\n",
       "    </tr>\n",
       "    <tr>\n",
       "      <th>0</th>\n",
       "      <td></td>\n",
       "      <td>4</td>\n",
       "    </tr>\n",
       "    <tr>\n",
       "      <th>9</th>\n",
       "      <td>Tim O’Reilly</td>\n",
       "      <td>2</td>\n",
       "    </tr>\n",
       "    <tr>\n",
       "      <th>1</th>\n",
       "      <td>Alex Castrounis</td>\n",
       "      <td>1</td>\n",
       "    </tr>\n",
       "    <tr>\n",
       "      <th>2</th>\n",
       "      <td>Hugo Bowne-Anderson</td>\n",
       "      <td>1</td>\n",
       "    </tr>\n",
       "    <tr>\n",
       "      <th>3</th>\n",
       "      <td>Justin Norman and Mike Loukides</td>\n",
       "      <td>1</td>\n",
       "    </tr>\n",
       "    <tr>\n",
       "      <th>4</th>\n",
       "      <td>Kevlin Henney</td>\n",
       "      <td>1</td>\n",
       "    </tr>\n",
       "    <tr>\n",
       "      <th>7</th>\n",
       "      <td>Patrick Hall and Ayoub Ouederni</td>\n",
       "      <td>1</td>\n",
       "    </tr>\n",
       "    <tr>\n",
       "      <th>8</th>\n",
       "      <td>Q Ethan McCallum, Chris Butler and Shane Glynn</td>\n",
       "      <td>1</td>\n",
       "    </tr>\n",
       "  </tbody>\n",
       "</table>\n",
       "</div>"
      ],
      "text/plain": [
       "                                           author  entries\n",
       "6                                  Nat Torkington       27\n",
       "5                                   Mike Loukides       21\n",
       "0                                                        4\n",
       "9                                    Tim O’Reilly        2\n",
       "1                                 Alex Castrounis        1\n",
       "2                             Hugo Bowne-Anderson        1\n",
       "3                 Justin Norman and Mike Loukides        1\n",
       "4                                   Kevlin Henney        1\n",
       "7                 Patrick Hall and Ayoub Ouederni        1\n",
       "8  Q Ethan McCallum, Chris Butler and Shane Glynn        1"
      ]
     },
     "execution_count": 110,
     "metadata": {},
     "output_type": "execute_result"
    }
   ],
   "source": [
    "authors = df.groupby('author', as_index=False).agg({'title':'count'})\n",
    "authors.columns = ['author', 'entries']\n",
    "authors.sort_values('entries', ascending=False)"
   ]
  },
  {
   "cell_type": "code",
   "execution_count": 111,
   "metadata": {},
   "outputs": [],
   "source": [
    "# no entiendo bien esto: authors = df.groupby('author', as_index=False).agg({'title':'count'})\n"
   ]
  },
  {
   "cell_type": "markdown",
   "metadata": {},
   "source": [
    "### 11. Add a new column to the data frame that contains the length (number of characters) of each entry title. Return a data frame that contains the title, author, and title length of each entry in descending order (longest title length at the top)."
   ]
  },
  {
   "cell_type": "code",
   "execution_count": 112,
   "metadata": {},
   "outputs": [
    {
     "data": {
      "text/html": [
       "<div>\n",
       "<style scoped>\n",
       "    .dataframe tbody tr th:only-of-type {\n",
       "        vertical-align: middle;\n",
       "    }\n",
       "\n",
       "    .dataframe tbody tr th {\n",
       "        vertical-align: top;\n",
       "    }\n",
       "\n",
       "    .dataframe thead th {\n",
       "        text-align: right;\n",
       "    }\n",
       "</style>\n",
       "<table border=\"1\" class=\"dataframe\">\n",
       "  <thead>\n",
       "    <tr style=\"text-align: right;\">\n",
       "      <th></th>\n",
       "      <th>title</th>\n",
       "      <th>author</th>\n",
       "      <th>title_length</th>\n",
       "    </tr>\n",
       "  </thead>\n",
       "  <tbody>\n",
       "    <tr>\n",
       "      <th>15</th>\n",
       "      <td>Where Programming, Ops, AI, and the Cloud are ...</td>\n",
       "      <td>Mike Loukides</td>\n",
       "      <td>60</td>\n",
       "    </tr>\n",
       "    <tr>\n",
       "      <th>12</th>\n",
       "      <td>5 infrastructure and operations trends to watc...</td>\n",
       "      <td></td>\n",
       "      <td>55</td>\n",
       "    </tr>\n",
       "    <tr>\n",
       "      <th>21</th>\n",
       "      <td>O’Reilly’s top 20 live online training courses...</td>\n",
       "      <td></td>\n",
       "      <td>54</td>\n",
       "    </tr>\n",
       "    <tr>\n",
       "      <th>11</th>\n",
       "      <td>5 things on our data and AI radar for 2021</td>\n",
       "      <td></td>\n",
       "      <td>42</td>\n",
       "    </tr>\n",
       "    <tr>\n",
       "      <th>16</th>\n",
       "      <td>Seven Legal Questions for Data Scientists</td>\n",
       "      <td>Patrick Hall and Ayoub Ouederni</td>\n",
       "      <td>41</td>\n",
       "    </tr>\n",
       "  </tbody>\n",
       "</table>\n",
       "</div>"
      ],
      "text/plain": [
       "                                                title  \\\n",
       "15  Where Programming, Ops, AI, and the Cloud are ...   \n",
       "12  5 infrastructure and operations trends to watc...   \n",
       "21  O’Reilly’s top 20 live online training courses...   \n",
       "11         5 things on our data and AI radar for 2021   \n",
       "16          Seven Legal Questions for Data Scientists   \n",
       "\n",
       "                             author  title_length  \n",
       "15                    Mike Loukides            60  \n",
       "12                                             55  \n",
       "21                                             54  \n",
       "11                                             42  \n",
       "16  Patrick Hall and Ayoub Ouederni            41  "
      ]
     },
     "execution_count": 112,
     "metadata": {},
     "output_type": "execute_result"
    }
   ],
   "source": [
    "df['title_length'] = df['title'].apply(len)\n",
    "df[['title', 'author', 'title_length']].sort_values('title_length', ascending=False).head()"
   ]
  },
  {
   "cell_type": "markdown",
   "metadata": {},
   "source": [
    "### 12. Create a list of entry titles whose summary includes the phrase \"machine learning.\""
   ]
  },
  {
   "cell_type": "code",
   "execution_count": 122,
   "metadata": {},
   "outputs": [
    {
     "data": {
      "text/plain": [
       "'Radar trends to watch: February 2021'"
      ]
     },
     "execution_count": 122,
     "metadata": {},
     "output_type": "execute_result"
    }
   ],
   "source": [
    "df['title'].iloc[0]"
   ]
  },
  {
   "cell_type": "code",
   "execution_count": 123,
   "metadata": {},
   "outputs": [],
   "source": [
    "machine_learn = df['title'] == 'machine learning.'"
   ]
  },
  {
   "cell_type": "code",
   "execution_count": 124,
   "metadata": {},
   "outputs": [
    {
     "data": {
      "text/plain": [
       "0     False\n",
       "1     False\n",
       "2     False\n",
       "3     False\n",
       "4     False\n",
       "5     False\n",
       "6     False\n",
       "7     False\n",
       "8     False\n",
       "9     False\n",
       "10    False\n",
       "11    False\n",
       "12    False\n",
       "13    False\n",
       "14    False\n",
       "15    False\n",
       "16    False\n",
       "17    False\n",
       "18    False\n",
       "19    False\n",
       "20    False\n",
       "21    False\n",
       "22    False\n",
       "23    False\n",
       "24    False\n",
       "25    False\n",
       "26    False\n",
       "27    False\n",
       "28    False\n",
       "29    False\n",
       "30    False\n",
       "31    False\n",
       "32    False\n",
       "33    False\n",
       "34    False\n",
       "35    False\n",
       "36    False\n",
       "37    False\n",
       "38    False\n",
       "39    False\n",
       "40    False\n",
       "41    False\n",
       "42    False\n",
       "43    False\n",
       "44    False\n",
       "45    False\n",
       "46    False\n",
       "47    False\n",
       "48    False\n",
       "49    False\n",
       "50    False\n",
       "51    False\n",
       "52    False\n",
       "53    False\n",
       "54    False\n",
       "55    False\n",
       "56    False\n",
       "57    False\n",
       "58    False\n",
       "59    False\n",
       "Name: title, dtype: bool"
      ]
     },
     "execution_count": 124,
     "metadata": {},
     "output_type": "execute_result"
    }
   ],
   "source": [
    "machine_learn"
   ]
  },
  {
   "cell_type": "code",
   "execution_count": null,
   "metadata": {},
   "outputs": [],
   "source": []
  }
 ],
 "metadata": {
  "kernelspec": {
   "display_name": "clase",
   "language": "python",
   "name": "clase"
  },
  "language_info": {
   "codemirror_mode": {
    "name": "ipython",
    "version": 3
   },
   "file_extension": ".py",
   "mimetype": "text/x-python",
   "name": "python",
   "nbconvert_exporter": "python",
   "pygments_lexer": "ipython3",
   "version": "3.8.8"
  }
 },
 "nbformat": 4,
 "nbformat_minor": 2
}
